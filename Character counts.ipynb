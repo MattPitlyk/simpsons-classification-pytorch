{
 "cells": [
  {
   "cell_type": "code",
   "execution_count": 86,
   "metadata": {},
   "outputs": [],
   "source": [
    "import os\n",
    "import random\n",
    "import shutil\n",
    "import pandas as pd"
   ]
  },
  {
   "cell_type": "code",
   "execution_count": 61,
   "metadata": {},
   "outputs": [],
   "source": [
    "#path = '/home/devel/handson-ml/Matt/repos/handson-ml/datasets/the-simpsons-characters-dataset'\n",
    "path = '/home/devel/handson-ml/Matt/datasets/simpsons/the-simpsons-characters-dataset'\n",
    "#path = 'home/devel/handson-ml/Matt/datasets/simpsons/the-simpsons-characters-dataset'\n",
    "train_path = 'simpsons_dataset'\n",
    "test_path = 'kaggle_simpson_testset'\n",
    "\n",
    "split_path = 'split'"
   ]
  },
  {
   "cell_type": "code",
   "execution_count": 63,
   "metadata": {},
   "outputs": [],
   "source": [
    "a = os.listdir(os.path.join(path, train_path))"
   ]
  },
  {
   "cell_type": "code",
   "execution_count": 49,
   "metadata": {},
   "outputs": [],
   "source": [
    "characters = '''homer_simpson\n",
    "ned_flanders\n",
    "moe_szyslak\n",
    "lisa_simpson\n",
    "bart_simpson\n",
    "marge_simpson\n",
    "krusty_the_clown\n",
    "principal_skinner\n",
    "charles_montgomery_burns\n",
    "milhouse_van_houten'''.split('\\n')"
   ]
  },
  {
   "cell_type": "code",
   "execution_count": 64,
   "metadata": {},
   "outputs": [],
   "source": [
    "fns = {}\n",
    "for char in characters:\n",
    "    fns[char] = os.listdir(os.path.join(path, train_path, char))"
   ]
  },
  {
   "cell_type": "code",
   "execution_count": 91,
   "metadata": {},
   "outputs": [],
   "source": [
    "def split_and_copy_files(char, files, train_perc=.8):\n",
    "    # Split files\n",
    "    train_len = int(len(files) * train_perc)\n",
    "    random.shuffle(files)\n",
    "    train = files[:train_len]\n",
    "    test = files[train_len:]\n",
    "    \n",
    "    # Copy files\n",
    "    char_train_path = os.path.join(path, split_path, 'train', char)\n",
    "    char_test_path = os.path.join(path, split_path, 'test', char)\n",
    "    try:\n",
    "        os.mkdir(char_train_path)\n",
    "    except:\n",
    "        pass\n",
    "    try:\n",
    "        os.mkdir(char_test_path)\n",
    "    except:\n",
    "        pass\n",
    "    for fn in train:\n",
    "        shutil.copy2(os.path.join(path, train_path, char, fn),\n",
    "                     os.path.join(char_train_path, fn))\n",
    "    for fn in test:\n",
    "        shutil.copy2(os.path.join(path, train_path, char, fn),\n",
    "                     os.path.join(char_test_path, fn))"
   ]
  },
  {
   "cell_type": "code",
   "execution_count": 92,
   "metadata": {},
   "outputs": [],
   "source": [
    "split_and_copy_files('homer_simpson', fns['homer_simpson'])"
   ]
  },
  {
   "cell_type": "code",
   "execution_count": 93,
   "metadata": {},
   "outputs": [
    {
     "name": "stdout",
     "output_type": "stream",
     "text": [
      "homer_simpson\n",
      "ned_flanders\n",
      "moe_szyslak\n",
      "lisa_simpson\n",
      "bart_simpson\n",
      "marge_simpson\n",
      "krusty_the_clown\n",
      "principal_skinner\n",
      "charles_montgomery_burns\n",
      "milhouse_van_houten\n"
     ]
    }
   ],
   "source": [
    "for k,v in fns.items():\n",
    "    print(k)\n",
    "    split_and_copy_files(k, v)"
   ]
  },
  {
   "cell_type": "code",
   "execution_count": null,
   "metadata": {},
   "outputs": [],
   "source": []
  },
  {
   "cell_type": "code",
   "execution_count": null,
   "metadata": {},
   "outputs": [],
   "source": []
  },
  {
   "cell_type": "code",
   "execution_count": null,
   "metadata": {},
   "outputs": [],
   "source": []
  }
 ],
 "metadata": {
  "kernelspec": {
   "display_name": "Python 3",
   "language": "python",
   "name": "python3"
  },
  "language_info": {
   "codemirror_mode": {
    "name": "ipython",
    "version": 3
   },
   "file_extension": ".py",
   "mimetype": "text/x-python",
   "name": "python",
   "nbconvert_exporter": "python",
   "pygments_lexer": "ipython3",
   "version": "3.6.4"
  },
  "toc": {
   "base_numbering": 1,
   "nav_menu": {},
   "number_sections": true,
   "sideBar": true,
   "skip_h1_title": false,
   "title_cell": "Table of Contents",
   "title_sidebar": "Contents",
   "toc_cell": false,
   "toc_position": {},
   "toc_section_display": true,
   "toc_window_display": false
  }
 },
 "nbformat": 4,
 "nbformat_minor": 2
}
